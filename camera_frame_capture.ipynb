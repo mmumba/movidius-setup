{
 "cells": [
  {
   "cell_type": "code",
   "execution_count": 1,
   "metadata": {},
   "outputs": [
    {
     "ename": "TypeError",
     "evalue": "mat data type = 23 is not supported",
     "output_type": "error",
     "traceback": [
      "\u001b[0;31m---------------------------------------------------------------------------\u001b[0m",
      "\u001b[0;31mTypeError\u001b[0m                                 Traceback (most recent call last)",
      "\u001b[0;32m<ipython-input-1-b53c54f61c3a>\u001b[0m in \u001b[0;36m<module>\u001b[0;34m()\u001b[0m\n\u001b[1;32m     41\u001b[0m \u001b[0;34m\u001b[0m\u001b[0m\n\u001b[1;32m     42\u001b[0m     \u001b[0;31m# Display the resulting frame\u001b[0m\u001b[0;34m\u001b[0m\u001b[0;34m\u001b[0m\u001b[0m\n\u001b[0;32m---> 43\u001b[0;31m     \u001b[0mcv2\u001b[0m\u001b[0;34m.\u001b[0m\u001b[0mimshow\u001b[0m\u001b[0;34m(\u001b[0m\u001b[0;34m'frame'\u001b[0m\u001b[0;34m,\u001b[0m\u001b[0mmistery_frame\u001b[0m\u001b[0;34m)\u001b[0m\u001b[0;34m\u001b[0m\u001b[0m\n\u001b[0m\u001b[1;32m     44\u001b[0m     \u001b[0;32mif\u001b[0m \u001b[0mcv2\u001b[0m\u001b[0;34m.\u001b[0m\u001b[0mwaitKey\u001b[0m\u001b[0;34m(\u001b[0m\u001b[0;36m1\u001b[0m\u001b[0;34m)\u001b[0m \u001b[0;34m&\u001b[0m \u001b[0;36m0xFF\u001b[0m \u001b[0;34m==\u001b[0m \u001b[0mord\u001b[0m\u001b[0;34m(\u001b[0m\u001b[0;34m'q'\u001b[0m\u001b[0;34m)\u001b[0m\u001b[0;34m:\u001b[0m\u001b[0;34m\u001b[0m\u001b[0m\n\u001b[1;32m     45\u001b[0m         \u001b[0;32mbreak\u001b[0m\u001b[0;34m\u001b[0m\u001b[0m\n",
      "\u001b[0;31mTypeError\u001b[0m: mat data type = 23 is not supported"
     ]
    }
   ],
   "source": [
    "import numpy as np\n",
    "\n",
    "import cv2\n",
    "\n",
    "camera = cv2.VideoCapture(0)\n",
    "\n",
    "\n",
    "def pre_process_image( frame ):\n",
    "\n",
    "    # Resize image [Image size is defined by choosen network, during training]\n",
    "    img = cv2.resize( frame, tuple( [299,299] ) )\n",
    "\n",
    "    # Extract/crop a section of the frame and resize it\n",
    "    height, width, channels = frame.shape\n",
    "    x1 = int( width / 3 )\n",
    "    y1 = int( height / 4 )\n",
    "    x2 = int( width * 2 / 3 )\n",
    "    y2 = int( height * 3 / 4 )\n",
    "\n",
    "    cv2.rectangle( frame, ( x1, y1 ) , ( x2, y2 ), ( 0, 255, 0 ), 2 )\n",
    "    img = frame[ y1 : y2, x1 : x2 ]\n",
    "\n",
    "    # Resize image [Image size if defined by choosen network, during training]\n",
    "    # img = cv2.resize( img, tuple( [299,299]  ) )\n",
    "\n",
    "     \n",
    "    # Mean subtraction & scaling [A common technique used to center the data]\n",
    "    img = img.astype( np.float16 )\n",
    "    img = ( img - np.float16( [128,128,128] ) ) \n",
    "\n",
    "    return img\n",
    "\n",
    "\n",
    "\n",
    "\n",
    "\n",
    "while(True):\n",
    "    # Capture frame-by-frame\n",
    "    ret, frame = camera.read()\n",
    "    mistery_frame = pre_process_image( frame )\n",
    "    print(\"mistery_frame :\", type(mistrer))\n",
    "    # Display the resulting frame\n",
    "    cv2.imshow('frame',mistery_frame)\n",
    "    if cv2.waitKey(1) & 0xFF == ord('q'):\n",
    "        break\n",
    "\n",
    "# When everything done, release the capture\n",
    "camera.release()\n",
    "cv2.destroyAllWindows()"
   ]
  },
  {
   "cell_type": "code",
   "execution_count": 2,
   "metadata": {},
   "outputs": [
    {
     "data": {
      "text/plain": [
       "array([[[-128.,  127., -128.],\n",
       "        [-128.,  127., -128.],\n",
       "        [-128.,  127., -128.],\n",
       "        ..., \n",
       "        [-128.,  127., -128.],\n",
       "        [-128.,  127., -128.],\n",
       "        [-128.,  127., -128.]],\n",
       "\n",
       "       [[-128.,  127., -128.],\n",
       "        [-128.,  127., -128.],\n",
       "        [-128.,  127., -128.],\n",
       "        ..., \n",
       "        [-128.,  127., -128.],\n",
       "        [-128.,  127., -128.],\n",
       "        [-128.,  127., -128.]],\n",
       "\n",
       "       [[-128.,  127., -128.],\n",
       "        [-128.,  127., -128.],\n",
       "        [-103., -103., -110.],\n",
       "        ..., \n",
       "        [-109., -105., -103.],\n",
       "        [-110., -106., -104.],\n",
       "        [-128.,  127., -128.]],\n",
       "\n",
       "       ..., \n",
       "       [[-128.,  127., -128.],\n",
       "        [-128.,  127., -128.],\n",
       "        [-115., -119., -120.],\n",
       "        ..., \n",
       "        [-123., -121., -121.],\n",
       "        [-122., -122., -122.],\n",
       "        [-128.,  127., -128.]],\n",
       "\n",
       "       [[-128.,  127., -128.],\n",
       "        [-128.,  127., -128.],\n",
       "        [-115., -119., -120.],\n",
       "        ..., \n",
       "        [-124., -122., -122.],\n",
       "        [-122., -122., -122.],\n",
       "        [-128.,  127., -128.]],\n",
       "\n",
       "       [[-128.,  127., -128.],\n",
       "        [-128.,  127., -128.],\n",
       "        [-128.,  127., -128.],\n",
       "        ..., \n",
       "        [-128.,  127., -128.],\n",
       "        [-128.,  127., -128.],\n",
       "        [-128.,  127., -128.]]], dtype=float16)"
      ]
     },
     "execution_count": 2,
     "metadata": {},
     "output_type": "execute_result"
    }
   ],
   "source": [
    "mistery_frame\n"
   ]
  }
 ],
 "metadata": {
  "kernelspec": {
   "display_name": "Python 3",
   "language": "python",
   "name": "python3"
  },
  "language_info": {
   "codemirror_mode": {
    "name": "ipython",
    "version": 3
   },
   "file_extension": ".py",
   "mimetype": "text/x-python",
   "name": "python",
   "nbconvert_exporter": "python",
   "pygments_lexer": "ipython3",
   "version": "3.5.5"
  }
 },
 "nbformat": 4,
 "nbformat_minor": 2
}
